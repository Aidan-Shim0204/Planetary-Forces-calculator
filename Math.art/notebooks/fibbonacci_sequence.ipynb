{
 "cells": [
  {
   "cell_type": "code",
   "execution_count": 1,
   "metadata": {},
   "outputs": [
    {
     "name": "stdout",
     "output_type": "stream",
     "text": [
      "Fibonacci Sequence: [0, 1, 1, 2, 3, 5, 8]\n",
      "Largest Fibonacci Value less than 10^6: 8\n"
     ]
    }
   ],
   "source": [
    "# This continues until the limit is reached and the full list of the fibonnaci sequence is met \n",
    "def fibonacci_sequence(limit):\n",
    "    \"\"\"\n",
    "    Takes in the limit input, being the largest fiboncci value of 1000000\n",
    "    \n",
    "    Outputs the whole fibonacci sequence up until the limit based on the while loop \n",
    "    \"\"\"\n",
    "    \n",
    "    fib_sequence = [0, 1] # Initial 'state' of starting with a 0 and 1, where it takes the n - 1 and nth element and adds them to \n",
    "    # Property of recursion relation below to check for adding a value to the fib_sequence list\n",
    "    while fib_sequence[-1] + fib_sequence[-2] < limit: # For values n and n-1, this checks to make sure the addition is less than the limit value\n",
    "        next_fib = fib_sequence[-1] + fib_sequence[-2] # Operates on the next element by using the n -1 and nth values for the next element in the sequence\n",
    "        fib_sequence.append(next_fib)\n",
    "    return fib_sequence\n",
    "\n",
    "# This function finds the largest value in the list that is just under the limit value within the fib_sequence list, using the largest_value variable to find the value smaller than 10^6\n",
    "def find_largest_fibonacci(limit):\n",
    "    \"\"\"\n",
    "    Takes the limit input, being the largest value or the limit\n",
    "    \n",
    "    Outputs/finds the max value within the fibonacci sequence list based on what is the max value that fits under the condition of being less thn the limit \n",
    "    \"\"\"\n",
    "    \n",
    "    fib_sequence = fibonacci_sequence(limit) # Calls upon function above to generate the list of the max fibonnaci numbers until it reaches the limit\n",
    "    largest_value = max(value for value in fib_sequence if value < limit) # iterates over each element in the fibonacci_sequence list, checking until the max element in the list is found that is just under the limit \n",
    "    return largest_value\n",
    "\n",
    "limit = 10\n",
    "\n",
    "# Generate Fibonacci sequence and find the largest value less than 10\n",
    "fibonacci_sequence_result = fibonacci_sequence(limit)\n",
    "largest_fibonacci_value = find_largest_fibonacci(limit)\n",
    "\n",
    "# Prints the respective results\n",
    "print(\"Fibonacci Sequence:\", fibonacci_sequence_result)\n",
    "print(\"Largest Fibonacci Value less than 10^6:\", largest_fibonacci_value)\n"
   ]
  },
  {
   "cell_type": "code",
   "execution_count": 4,
   "metadata": {},
   "outputs": [
    {
     "ename": "",
     "evalue": "",
     "output_type": "error",
     "traceback": [
      "\u001b[1;31mThe Kernel crashed while executing code in the current cell or a previous cell. \n",
      "\u001b[1;31mPlease review the code in the cell(s) to identify a possible cause of the failure. \n",
      "\u001b[1;31mClick <a href='https://aka.ms/vscodeJupyterKernelCrash'>here</a> for more info. \n",
      "\u001b[1;31mView Jupyter <a href='command:jupyter.viewOutput'>log</a> for further details."
     ]
    }
   ],
   "source": [
    "#Draw the Fibonacci Spiral using Turtle Graphics\n",
    "\n",
    "\n"
   ]
  }
 ],
 "metadata": {
  "kernelspec": {
   "display_name": "Python 3",
   "language": "python",
   "name": "python3"
  },
  "language_info": {
   "codemirror_mode": {
    "name": "ipython",
    "version": 3
   },
   "file_extension": ".py",
   "mimetype": "text/x-python",
   "name": "python",
   "nbconvert_exporter": "python",
   "pygments_lexer": "ipython3",
   "version": "3.11.8"
  }
 },
 "nbformat": 4,
 "nbformat_minor": 2
}
